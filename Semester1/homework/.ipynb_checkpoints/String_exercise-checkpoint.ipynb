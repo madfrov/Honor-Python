{
 "cells": [
  {
   "cell_type": "markdown",
   "id": "3afe971e-93c8-41e6-8168-db15f0a32cd2",
   "metadata": {},
   "source": [
    "# Exercise 1 Slices\n",
    "## You are given a string.\n",
    "### In the first line, print the third character of this string.\n",
    "### In the second line, print the second to last character of this string.\n",
    "\n",
    "### In the third line, print the first five characters of this string.\n",
    "\n",
    "### In the fourth line, print all but the last two characters of this string.\n",
    "\n",
    "### In the fifth line, print all the characters of this string with even indices (remember indexing starts at 0, so the characters are displayed starting with the first).\n",
    "\n",
    "### In the sixth line, print all the characters of this string with odd indices (i.e. starting with the second character in the string).\n",
    "\n",
    "### In the seventh line, print all the characters of the string in reverse order.\n",
    "\n",
    "### In the eighth line, print every second character of the string in reverse order, starting from the last one.\n",
    "\n",
    "### In the ninth line, print the length of the given string."
   ]
  },
  {
   "cell_type": "code",
   "execution_count": 29,
   "id": "383413f7-58c1-4593-88e9-dced339e39ba",
   "metadata": {},
   "outputs": [
    {
     "name": "stdout",
     "output_type": "stream",
     "text": [
      "l\n",
      "ello\n",
      "hel\n",
      "hello\n",
      "hlo\n",
      "el\n",
      "olleh\n",
      "olh\n",
      "5\n"
     ]
    }
   ],
   "source": [
    "a=\"hello\"\n",
    "print(a[2])\n",
    "print(a[1:])\n",
    "print(a[0:len(a)-2])\n",
    "print(a[::])\n",
    "print(a[0::2])\n",
    "print(a[1::2])\n",
    "print(a[::-1])\n",
    "print(a[::-2])\n",
    "print(len(a))"
   ]
  },
  {
   "cell_type": "markdown",
   "id": "7d96c720-2bf6-4a10-b9e7-7896d9da5fe4",
   "metadata": {},
   "source": [
    "Example Input\n",
    "```\n",
    "Hello\n",
    "```\n",
    "Example Ouput\n",
    "```\n",
    "l\n",
    "l\n",
    "Hello\n",
    "Hel\n",
    "Hlo\n",
    "el\n",
    "olleH\n",
    "olH\n",
    "5\n",
    "```"
   ]
  },
  {
   "cell_type": "markdown",
   "id": "d336559e-43bf-4cd8-a621-09ed78bc6d31",
   "metadata": {},
   "source": [
    "# Exercise 2 The number of words\n",
    "### Given a string consisting of words separated by spaces. Determine how many words it has. To solve the problem, use the method count."
   ]
  },
  {
   "cell_type": "markdown",
   "id": "509210ce-029e-4b9c-86e2-16bf2861c43c",
   "metadata": {},
   "source": [
    "input\n",
    "```\n",
    "Hello world\n",
    "```\n",
    "output\n",
    "```\n",
    "1\n",
    "```"
   ]
  },
  {
   "cell_type": "markdown",
   "id": "ac213845-0b60-4da3-b05d-a8163f0ae205",
   "metadata": {},
   "source": [
    "# Exercise 3 The two halves\n",
    "### Given a string. Cut it into two \"equal\" parts (If the length of the string is odd, place the center character in the first string, so that the first string contains one more characther than the second). Now print a new string on a single row with the first and second halfs interchanged (second half first and the first half second)\n",
    "Don't use the statement if in this task."
   ]
  },
  {
   "cell_type": "markdown",
   "id": "145ab14b-0655-4aca-b415-926cbdfd001b",
   "metadata": {},
   "source": [
    "input\n",
    "```\n",
    "Hello\n",
    "```\n",
    "output\n",
    "```\n",
    "lohel\n",
    "```"
   ]
  },
  {
   "cell_type": "code",
   "execution_count": 18,
   "id": "44bbcac3-3c85-4eca-b653-9f2da9f6f605",
   "metadata": {},
   "outputs": [
    {
     "name": "stdin",
     "output_type": "stream",
     "text": [
      " hello\n"
     ]
    },
    {
     "name": "stdout",
     "output_type": "stream",
     "text": [
      "lohel\n"
     ]
    }
   ],
   "source": [
    "\n"
   ]
  },
  {
   "cell_type": "markdown",
   "id": "edb1b435-938d-40ce-80ee-d616c9d5cb16",
   "metadata": {},
   "source": [
    "# 2. Slices: single character\n",
    "A slice gives from the given string one character or some fragment: substring or subsequence.\n",
    "\n",
    "There are three forms of slices. The simplest form of the slice: a single character slice S[i] gives ith character of the string. We count characters starting from 0. That is, if S = 'Hello', S[0] == 'H', S[1] == 'e', S[2] == 'l', S[3] == 'l', S[4] == 'o'. Note that in Python there is no separate type for characters of the string. S[i] also has the type str, just as the source string.\n",
    "\n",
    "Number i in S[i] is called an index.\n",
    "\n",
    "If you specify a negative index, then it is counted from the end, starting with the number -1. That is, S[-1] == 'o', S[-2] == 'l', S[-3] == 'l', S[-4] == 'e', S[-5] == 'H'.\n",
    "\n",
    "Let's summarize it in the table:\n",
    "\n",
    "String S\tH\te\tl\tl\to\n",
    "Index\tS[0]\tS[1]\tS[2]\tS[3]\tS[4]\n",
    "Index\tS[-5]\tS[-4]\tS[-3]\tS[-2]\tS[-1]\n",
    "If the index in the slice S[i] is greater than or equal to len(S), or less than -len(S), the following error is caused IndexError: string index out of range."
   ]
  },
  {
   "cell_type": "markdown",
   "id": "5492ecf9-1b59-461d-9032-d70a4ea8b709",
   "metadata": {},
   "source": [
    "# 3. Slices: substring\n",
    "Slice with two parameters S[a:b] returns the substring of length b - a, starting with the character at index a and lasting until the character at index b, not including the last one. For example, S[1:4] == 'ell', and you can get the same substring using S[-4:-1]. You can mix positive and negative indexes in the same slice, for example, S[1:-1] is a substring without the first and the last character of the string (the slice begins with the character with index 1 and ends with an index of -1, not including it).\n",
    "\n",
    "Slices with two parameters never cause IndexError. For example, for S == 'Hello' the slice S[1:5] returns the string 'ello', and the result is the same even if the second index is very large, like S[1:100].\n",
    "\n",
    "If you omit the second parameter (but preserve the colon), then the slice goes to the end of string. For example, to remove the first character from the string (its index is 0) take the slice S[1:]. Similarly if you omit the first parameter, then Python takes the slice from the beginning of the string. That is, to remove the last character from the string, you can use slice S[:-1]. The slice S[:] matches the string S itself."
   ]
  },
  {
   "cell_type": "markdown",
   "id": "638ffa16-d0b7-4a9e-9307-9312a42959c6",
   "metadata": {},
   "source": [
    "# 4. Slices: immutability of strings\n",
    "Any slice of a string creates a new string and never modifies the original one. In Python strings are immutable, i.e they can not be changed as the objects. You can only assign the variable to the new string, but the old one stays in memory.\n",
    "\n",
    "In fact in Python there is no variables. There are only the names that are associated with any objects. You can first associate a name with one object, and then — with another. Can several names be associated with one and the same object.\n",
    "\n",
    "Let's demonstrate that:"
   ]
  },
  {
   "cell_type": "code",
   "execution_count": 30,
   "id": "b1be255e-3031-4e83-bf5d-250a7128c485",
   "metadata": {},
   "outputs": [
    {
     "name": "stdout",
     "output_type": "stream",
     "text": [
      "Hello\n",
      "ll\n"
     ]
    }
   ],
   "source": [
    "s = 'Hello'\n",
    "t = s  # s and t point to the same string\n",
    "t = s[2:4]  # now t points to the new string 'll'\n",
    "print(s)  # prints 'Hello' as s is not changed\n",
    "print(t)  # prints 'll'"
   ]
  },
  {
   "cell_type": "markdown",
   "id": "d643a350-1cbd-45a5-bd59-0aa5236dc3e2",
   "metadata": {},
   "source": [
    "# 5. Slices: subsequence\n",
    "If you specify a slice with three parameters S[a:b:d], the third parameter specifies the step, same as for function range(). In this case only the characters with the following index are taken: a a + d, a + 2 * d and so on, until and not including the character with index b. If the third parameter equals to 2, the slice takes every second character, and if the step of the slice equals to -1, the characters go in reverse order. For example, you can reverse a string like this: S[::-1]. Let's see the examples:"
   ]
  },
  {
   "cell_type": "code",
   "execution_count": 31,
   "id": "9f093cea-1954-4319-8b78-e11546c9700b",
   "metadata": {},
   "outputs": [
    {
     "name": "stdout",
     "output_type": "stream",
     "text": [
      "b\n",
      "g\n",
      "bc\n",
      "bcdef\n",
      "abc\n",
      "cdefg\n",
      "abcdef\n",
      "aceg\n",
      "bdf\n",
      "gfedcba\n"
     ]
    }
   ],
   "source": [
    "s = 'abcdefg'\n",
    "print(s[1])\n",
    "print(s[-1])\n",
    "print(s[1:3])\n",
    "print(s[1:-1])\n",
    "print(s[:3])\n",
    "print(s[2:])\n",
    "print(s[:-1])\n",
    "print(s[::2])\n",
    "print(s[1::2])\n",
    "print(s[::-1])"
   ]
  },
  {
   "cell_type": "code",
   "execution_count": 32,
   "id": "2bca67f4-eba1-420f-a34f-0793d4b65b3f",
   "metadata": {},
   "outputs": [
    {
     "name": "stdout",
     "output_type": "stream",
     "text": [
      "acegi\n",
      "0 a\n",
      "2 c\n",
      "4 e\n",
      "6 g\n",
      "8 i\n"
     ]
    }
   ],
   "source": [
    "s = 'abcdefghijklm'\n",
    "print(s[0:10:2])\n",
    "for i in range(0, 10, 2):\n",
    "    print(i, s[i])"
   ]
  },
  {
   "cell_type": "markdown",
   "id": "18ac2b11-9322-4cae-a574-cad9f08f60fc",
   "metadata": {},
   "source": [
    "# 6. String methods: find() and rfind()\n",
    "A method is a function that is bound to the object. When the method is called, the method is applied to the object and does some computations related to it. Methods are invoked as object_name.method_name(arguments). For example, in s.find(\"e\")  the string method find() is applied to the string s with one argument \"e\".\n",
    "\n",
    "Method find() searches a substring, passed as an argument, inside the string on which it's called. The function returns the index of the first occurrence of the substring. If the substring is not found, the method returns -1."
   ]
  },
  {
   "cell_type": "code",
   "execution_count": 33,
   "id": "ba93ba50-88af-4e40-936d-6272c10cdeb3",
   "metadata": {},
   "outputs": [
    {
     "name": "stdout",
     "output_type": "stream",
     "text": [
      "1\n",
      "2\n",
      "-1\n"
     ]
    }
   ],
   "source": [
    "s = 'Hello'\n",
    "print(s.find('e'))\n",
    "# 1\n",
    "print(s.find('ll'))\n",
    "# 2\n",
    "print(s.find('L'))\n",
    "# -1"
   ]
  },
  {
   "cell_type": "markdown",
   "id": "114093d0-2193-41d9-a412-368089166ed1",
   "metadata": {},
   "source": [
    "Similarly, the method rfind() returns the index of the last occurrence of the substring."
   ]
  },
  {
   "cell_type": "code",
   "execution_count": 34,
   "id": "85961074-aa16-488a-926b-5584ac8d9a73",
   "metadata": {
    "scrolled": true
   },
   "outputs": [
    {
     "name": "stdout",
     "output_type": "stream",
     "text": [
      "1\n",
      "8\n"
     ]
    }
   ],
   "source": [
    "s = 'abracadabra'\n",
    "print(s.find('b'))\n",
    "# 1\n",
    "print(s.rfind('b'))\n",
    "# 8"
   ]
  },
  {
   "cell_type": "markdown",
   "id": "9036892c-245d-4b42-9444-edd740c36fce",
   "metadata": {},
   "source": [
    "If you call find() with three arguments s.find(substring, left, right), the search is performed inside the slice s[left:right]. If you specify only two arguments, like s.find(substring, left), the search is performed in the slice s[left:], that is, starting with the character at index left to the end of the string. Method s.find(substring, left, right) returns the absolute index, relatively to the whole string s, and not to the slice."
   ]
  },
  {
   "cell_type": "code",
   "execution_count": 35,
   "id": "fb69cc91-42a0-4f1e-aa86-54fb19317f81",
   "metadata": {},
   "outputs": [
    {
     "name": "stdout",
     "output_type": "stream",
     "text": [
      "11\n",
      "23\n"
     ]
    }
   ],
   "source": [
    "s = 'my name is bond, james bond, okay?'\n",
    "print(s.find('bond'))\n",
    "# 11\n",
    "print(s.find('bond', 12))\n",
    "# 23"
   ]
  },
  {
   "cell_type": "markdown",
   "id": "736f9fa0-782a-4350-ba28-c459172d9799",
   "metadata": {},
   "source": [
    "# 7. String methods: replace()\n",
    "Method replace() replaces all occurrences of a given substring with another one. Syntax: s.replace(old, new)  takes the string S and replaces all occurrences of substring old with the substring new. Example:"
   ]
  },
  {
   "cell_type": "code",
   "execution_count": 36,
   "id": "33c4e963-28cb-48d0-8c32-76bbab5b0d7a",
   "metadata": {},
   "outputs": [
    {
     "name": "stdout",
     "output_type": "stream",
     "text": [
      "a pub is a pub, essentially\n"
     ]
    }
   ],
   "source": [
    "print('a bar is a bar, essentially'.replace('bar', 'pub'))\n",
    "# 'a pub is a pub, essentially'"
   ]
  },
  {
   "cell_type": "markdown",
   "id": "e5cea839-2d6a-4d00-8be5-3691b300f07b",
   "metadata": {},
   "source": [
    "One can pass the third argument count, like this: s.replace(old, new, count). It makes replace() to replace only first count occurrences and then stop."
   ]
  },
  {
   "cell_type": "code",
   "execution_count": 37,
   "id": "b8806595-2bc0-482f-b25c-adbd5566ffd0",
   "metadata": {},
   "outputs": [
    {
     "name": "stdout",
     "output_type": "stream",
     "text": [
      "a pub is a bar, essentially\n"
     ]
    }
   ],
   "source": [
    "print('a bar is a bar, essentially'.replace('bar', 'pub', 1))\n",
    "# 'a pub is a bar, essentially'"
   ]
  },
  {
   "cell_type": "markdown",
   "id": "ccb21f42-0199-453d-9438-8e9ae13b508c",
   "metadata": {},
   "source": [
    "# 8. String methods: count()\n",
    "This method counts the number of occurrences of one string within another string. The simplest form is this one: s.count(substring). Only non-overlapping occurrences are taken into account:"
   ]
  },
  {
   "cell_type": "code",
   "execution_count": 38,
   "id": "6a05db55-b727-4626-8ea7-59b156de5834",
   "metadata": {},
   "outputs": [
    {
     "name": "stdout",
     "output_type": "stream",
     "text": [
      "4\n",
      "5\n"
     ]
    }
   ],
   "source": [
    "print('Abracadabra'.count('a'))\n",
    "# 4\n",
    "print(('aaaaaaaaaa').count('aa'))\n",
    "# 5"
   ]
  },
  {
   "cell_type": "markdown",
   "id": "a67c69ef-af1d-4959-bd36-7ced452f982c",
   "metadata": {},
   "source": [
    "If you specify three parameters s.count(substring, left, right), the count is performed within the slice s[left:right]."
   ]
  },
  {
   "cell_type": "markdown",
   "id": "66ad3488-7cbc-41b1-83ec-ffcf7b2e7f78",
   "metadata": {},
   "source": [
    "# Exercise 4 To swap the two words\n",
    "### Given a string consisting of exactly two words separated by a space. Print a new string with the first and second word positions swapped (the second word is printed first).\n",
    "This task should not use loops and if."
   ]
  },
  {
   "cell_type": "markdown",
   "id": "187dda77-67b0-48ba-a5a7-d6884ee848eb",
   "metadata": {},
   "source": [
    "# Exercise 5 The first and last occurrence\n",
    "### Given a string that may or may not contain a letter of interest. Print the index location of the first and last appearance of f. If the letter f occurs only once, then output its index. If the letter f does not occur, then do not print anything.\n",
    "Don't use loops in this task."
   ]
  },
  {
   "cell_type": "markdown",
   "id": "88299c92-eb1b-46e1-8fa6-68bcc0f90f92",
   "metadata": {},
   "source": [
    "# Exercise 6 The second occurrence\n",
    "### Given a string that may or may not contain the letter of interest. Print the index location of the second occurrence of the letter f. If the string contains the letter f only once, then print -1, and if the string does not contain the letter f, then print -2."
   ]
  },
  {
   "cell_type": "markdown",
   "id": "6f99f8a5-0828-4f26-9784-e638985b5a02",
   "metadata": {},
   "source": [
    "# Exercise 7 Remove the fragment\n",
    "### Given a string in which the letter h occurs at least twice. Remove from that string the first and the last occurrence of the letter h, as well as all the characters between them."
   ]
  },
  {
   "cell_type": "markdown",
   "id": "77346a20-9ba1-4766-a7aa-14e4fcd2fe3b",
   "metadata": {},
   "source": [
    "# Exercise8 Reverse the fragment\n",
    "### Given a string in which the letter h occurs at least two times, reverse the sequence of characters enclosed between the first and last appearances."
   ]
  },
  {
   "cell_type": "markdown",
   "id": "6cb3a1ba-6e77-4ad8-9ee2-228657f3d297",
   "metadata": {},
   "source": [
    "# Exercise 9 Replace the substring\n",
    "### Given a string. Replace in this string all the numbers 1 by the word one."
   ]
  },
  {
   "cell_type": "markdown",
   "id": "d6110f09-da28-4815-8a46-e157bcdd7c42",
   "metadata": {},
   "source": [
    "# Exercise 10 Delete a character\n",
    "### Given a string. Remove from this string all the characters @."
   ]
  },
  {
   "cell_type": "markdown",
   "id": "b7b733da-29f0-4c26-a0c1-28c91851f109",
   "metadata": {},
   "source": [
    "# Exercise 11 Replace within the fragment\n",
    "### Given a string. Replace every occurrence of the letter h by the letter H, except for the first and the last ones."
   ]
  },
  {
   "cell_type": "markdown",
   "id": "a8855689-a312-4e7a-940c-50cd182d7f10",
   "metadata": {},
   "source": [
    "# Exercise 12 Delete every third character\n",
    "### Given a string. Delete from it all the characters whose indices are divisible by 3."
   ]
  },
  {
   "cell_type": "code",
   "execution_count": null,
   "id": "d5074c83-98ab-45ec-960a-77daf4556b47",
   "metadata": {},
   "outputs": [],
   "source": []
  }
 ],
 "metadata": {
  "kernelspec": {
   "display_name": "Python 3 (ipykernel)",
   "language": "python",
   "name": "python3"
  },
  "language_info": {
   "codemirror_mode": {
    "name": "ipython",
    "version": 3
   },
   "file_extension": ".py",
   "mimetype": "text/x-python",
   "name": "python",
   "nbconvert_exporter": "python",
   "pygments_lexer": "ipython3",
   "version": "3.11.7"
  }
 },
 "nbformat": 4,
 "nbformat_minor": 5
}
