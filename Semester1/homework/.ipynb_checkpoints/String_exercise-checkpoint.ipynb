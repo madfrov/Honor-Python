{
 "cells": [
  {
   "cell_type": "markdown",
   "id": "3afe971e-93c8-41e6-8168-db15f0a32cd2",
   "metadata": {},
   "source": [
    "# Exercise 1 Slices\n",
    "## You are given a string.\n",
    "### In the first line, print the third character of this string.\n",
    "### In the second line, print the second to last character of this string.\n",
    "\n",
    "### In the third line, print the first five characters of this string.\n",
    "\n",
    "### In the fourth line, print all but the last two characters of this string.\n",
    "\n",
    "### In the fifth line, print all the characters of this string with even indices (remember indexing starts at 0, so the characters are displayed starting with the first).\n",
    "\n",
    "### In the sixth line, print all the characters of this string with odd indices (i.e. starting with the second character in the string).\n",
    "\n",
    "### In the seventh line, print all the characters of the string in reverse order.\n",
    "\n",
    "### In the eighth line, print every second character of the string in reverse order, starting from the last one.\n",
    "\n",
    "### In the ninth line, print the length of the given string."
   ]
  },
  {
   "cell_type": "code",
   "execution_count": null,
   "id": "9c5e0363-92f8-44d6-b045-fb09702db1f4",
   "metadata": {},
   "outputs": [],
   "source": []
  },
  {
   "cell_type": "markdown",
   "id": "d336559e-43bf-4cd8-a621-09ed78bc6d31",
   "metadata": {},
   "source": [
    "# Exercise 2 The number of words\n",
    "### Given a string consisting of words separated by spaces. Determine how many words it has. To solve the problem, use the method count."
   ]
  },
  {
   "cell_type": "markdown",
   "id": "ac213845-0b60-4da3-b05d-a8163f0ae205",
   "metadata": {},
   "source": [
    "# Exercise 3 The two halves\n",
    "### Given a string. Cut it into two \"equal\" parts (If the length of the string is odd, place the center character in the first string, so that the first string contains one more characther than the second). Now print a new string on a single row with the first and second halfs interchanged (second half first and the first half second)\n",
    "Don't use the statement if in this task."
   ]
  },
  {
   "cell_type": "markdown",
   "id": "66ad3488-7cbc-41b1-83ec-ffcf7b2e7f78",
   "metadata": {},
   "source": [
    "# Exercise 4 To swap the two words\n",
    "### Given a string consisting of exactly two words separated by a space. Print a new string with the first and second word positions swapped (the second word is printed first).\n",
    "This task should not use loops and if."
   ]
  },
  {
   "cell_type": "markdown",
   "id": "187dda77-67b0-48ba-a5a7-d6884ee848eb",
   "metadata": {},
   "source": [
    "# Exercise 5 The first and last occurrence\n",
    "### Given a string that may or may not contain a letter of interest. Print the index location of the first and last appearance of f. If the letter f occurs only once, then output its index. If the letter f does not occur, then do not print anything.\n",
    "Don't use loops in this task."
   ]
  },
  {
   "cell_type": "markdown",
   "id": "88299c92-eb1b-46e1-8fa6-68bcc0f90f92",
   "metadata": {},
   "source": [
    "# Exercise 6 The second occurrence\n",
    "### Given a string that may or may not contain the letter of interest. Print the index location of the second occurrence of the letter f. If the string contains the letter f only once, then print -1, and if the string does not contain the letter f, then print -2."
   ]
  },
  {
   "cell_type": "markdown",
   "id": "6f99f8a5-0828-4f26-9784-e638985b5a02",
   "metadata": {},
   "source": [
    "# Exercise 7 Remove the fragment\n",
    "### Given a string in which the letter h occurs at least twice. Remove from that string the first and the last occurrence of the letter h, as well as all the characters between them."
   ]
  },
  {
   "cell_type": "markdown",
   "id": "77346a20-9ba1-4766-a7aa-14e4fcd2fe3b",
   "metadata": {},
   "source": [
    "# Exercise8 Reverse the fragment\n",
    "### Given a string in which the letter h occurs at least two times, reverse the sequence of characters enclosed between the first and last appearances."
   ]
  },
  {
   "cell_type": "markdown",
   "id": "6cb3a1ba-6e77-4ad8-9ee2-228657f3d297",
   "metadata": {},
   "source": [
    "# Exercise 9 Replace the substring\n",
    "### Given a string. Replace in this string all the numbers 1 by the word one."
   ]
  },
  {
   "cell_type": "markdown",
   "id": "d6110f09-da28-4815-8a46-e157bcdd7c42",
   "metadata": {},
   "source": [
    "# Exercise 10 Delete a character\n",
    "### Given a string. Remove from this string all the characters @."
   ]
  },
  {
   "cell_type": "markdown",
   "id": "b7b733da-29f0-4c26-a0c1-28c91851f109",
   "metadata": {},
   "source": [
    "# Exercise 11 Replace within the fragment\n",
    "### Given a string. Replace every occurrence of the letter h by the letter H, except for the first and the last ones."
   ]
  },
  {
   "cell_type": "markdown",
   "id": "a8855689-a312-4e7a-940c-50cd182d7f10",
   "metadata": {},
   "source": [
    "# Exercise 12 Delete every third character\n",
    "### Given a string. Delete from it all the characters whose indices are divisible by 3."
   ]
  },
  {
   "cell_type": "code",
   "execution_count": null,
   "id": "d5074c83-98ab-45ec-960a-77daf4556b47",
   "metadata": {},
   "outputs": [],
   "source": []
  }
 ],
 "metadata": {
  "kernelspec": {
   "display_name": "Python 3 (ipykernel)",
   "language": "python",
   "name": "python3"
  },
  "language_info": {
   "codemirror_mode": {
    "name": "ipython",
    "version": 3
   },
   "file_extension": ".py",
   "mimetype": "text/x-python",
   "name": "python",
   "nbconvert_exporter": "python",
   "pygments_lexer": "ipython3",
   "version": "3.11.7"
  }
 },
 "nbformat": 4,
 "nbformat_minor": 5
}
