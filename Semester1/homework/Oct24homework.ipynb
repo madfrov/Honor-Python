{
 "cells": [
  {
   "cell_type": "markdown",
   "id": "53135dd9-0178-47fa-9e75-0034431b4ec2",
   "metadata": {},
   "source": [
    "# Question1\n",
    "## Given two integers A and B (A ≤ B). Print all numbers from A to B inclusively.\n",
    "### Sample input\n",
    "```\n",
    "1\n",
    "7\n",
    "```\n",
    "### Sample output\n",
    "```\n",
    "1 2 3 4 5 6 7\n",
    "```"
   ]
  },
  {
   "cell_type": "code",
   "execution_count": 4,
   "id": "dc7b06dd-ed69-4d2f-a06b-059c8c2245de",
   "metadata": {},
   "outputs": [
    {
     "name": "stdin",
     "output_type": "stream",
     "text": [
      " 1\n",
      " 7\n"
     ]
    },
    {
     "name": "stdout",
     "output_type": "stream",
     "text": [
      "1234567"
     ]
    }
   ],
   "source": [
    "A=int(input())\n",
    "B=int(input())\n",
    "for i in range(A,B+1):\n",
    "    print(i,end=\"\")"
   ]
  },
  {
   "cell_type": "markdown",
   "id": "0a26757c-c921-4a33-a019-f48431e8adb1",
   "metadata": {},
   "source": [
    "#  Question2\n",
    "## Given two integers A and B (A ≤ B). Print all numbers from A to B inclusively,in ascending order, if A < B, or in descending order, if A ≥ B.\n",
    "### Sample input\n",
    "```\n",
    "1\n",
    "4\n",
    "```\n",
    "### Sample output\n",
    "```\n",
    "1 2 3 4\n",
    "```\n",
    "### Sample input\n",
    "```\n",
    "-4\n",
    "1\n",
    "```\n",
    "### Sample output\n",
    "```\n",
    "-4 -3 -2 -1 0 1\n",
    "```"
   ]
  },
  {
   "cell_type": "code",
   "execution_count": 5,
   "id": "0930ae29-3290-45b6-8875-542569bd2793",
   "metadata": {},
   "outputs": [
    {
     "name": "stdin",
     "output_type": "stream",
     "text": [
      " -1\n",
      " -10\n"
     ]
    },
    {
     "name": "stdout",
     "output_type": "stream",
     "text": [
      "-1 -2 -3 -4 -5 -6 -7 -8 -9 -10 "
     ]
    }
   ],
   "source": [
    "A = int(input())\n",
    "B = int(input())\n",
    "\n",
    "if A < B:\n",
    "    for i in range(A, B + 1):\n",
    "        print(i, end=\" \")\n",
    "else:\n",
    "    for i in range(A, B - 1, -1):\n",
    "        print(i, end=\" \")\n"
   ]
  },
  {
   "cell_type": "markdown",
   "id": "8a324512-b26e-4872-ac91-7608586eb990",
   "metadata": {},
   "source": [
    "# Q3 Sum of ten numbers\n",
    "## 10 numbers are given in the input.Read them and print their sum.Use as few variables as you can\n",
    "### sample input\n",
    "```\n",
    "1\n",
    "2\n",
    "3\n",
    "4\n",
    "5\n",
    "6\n",
    "7\n",
    "8\n",
    "9\n",
    "10\n",
    "```\n",
    "### output\n",
    "```\n",
    "55\n",
    "```"
   ]
  },
  {
   "cell_type": "code",
   "execution_count": 7,
   "id": "f079c9e8-c26e-4883-a73a-68bec46ae0bc",
   "metadata": {},
   "outputs": [
    {
     "name": "stdin",
     "output_type": "stream",
     "text": [
      " 1\n",
      " 1\n",
      " 1\n",
      " 1\n",
      " 1\n",
      " 1\n",
      " 1\n",
      " 1\n",
      " 1\n",
      " 1\n"
     ]
    },
    {
     "name": "stdout",
     "output_type": "stream",
     "text": [
      "the total number is : 10\n"
     ]
    }
   ],
   "source": [
    "sum = 0\n",
    "for i in range(10):\n",
    "    sum += int(input())\n",
    "print(\"the total number is :\",sum)\n"
   ]
  },
  {
   "cell_type": "markdown",
   "id": "2d887a59-5be8-4b5b-aa0f-76c2b1c2891c",
   "metadata": {},
   "source": [
    "# Q4:Sum of N numbers\n",
    "## N numbers are given in the input. Read them and print their sum.\n",
    "## The first line of input contains the integer N, which is the number of integers to follow. Each of the next N lines contains one integer. Print the sum of these N integers.\n",
    "```\n",
    "10 #input the number of N\n",
    "1\n",
    "2\n",
    "1\n",
    "1\n",
    "1\n",
    "1\n",
    "3\n",
    "1\n",
    "1\n",
    "1\n",
    "```\n",
    "output\n",
    "```\n",
    "13\n",
    "```"
   ]
  },
  {
   "cell_type": "code",
   "execution_count": null,
   "id": "f49eb1f2-896f-46c9-8c96-d436f4db261d",
   "metadata": {},
   "outputs": [],
   "source": [
    "N=int(input())\n",
    "sum=0\n",
    "for i in range(N):\n",
    "    sum=sum+int(input())\n",
    "print(sum)"
   ]
  },
  {
   "cell_type": "markdown",
   "id": "a3ac1bfc-4575-47f5-94be-3c2b51e4a4c8",
   "metadata": {},
   "source": [
    "# Q5:Sum of cubes\n",
    "# For the given integer N calculate the following sum:\n",
    "$$1^3 + 2^3 + \\cdots + N^3$$\n",
    "Example Input\n",
    "```\n",
    "4\n",
    "```\n",
    "Example Output\n",
    "```\n",
    "100\n",
    "```\n"
   ]
  },
  {
   "cell_type": "code",
   "execution_count": 3,
   "id": "cbdfc3b5-1372-4fc7-83d9-6e10ed7755b6",
   "metadata": {},
   "outputs": [
    {
     "name": "stdin",
     "output_type": "stream",
     "text": [
      " 8\n"
     ]
    },
    {
     "name": "stdout",
     "output_type": "stream",
     "text": [
      "1296\n"
     ]
    }
   ],
   "source": [
    "N=int(input())\n",
    "sum=0\n",
    "for i in range(1,N+1):\n",
    "    sum=sum+i**3\n",
    "print(sum)"
   ]
  },
  {
   "cell_type": "markdown",
   "id": "0d994703-d5d9-477e-bfaf-4136cd0dfe46",
   "metadata": {},
   "source": [
    "# Q6:Factorial Calculation\n",
    "\n",
    "## In mathematics, the factorial of an integer n, denoted by n!is the following product:\n",
    "       n!=1×2×…×n\n",
    "## For the given integer n calculate the value n! Don't use math module in this exercise.\n",
    "Example input\n",
    "```\n",
    "5\n",
    "```\n",
    "Example output\n",
    "```\n",
    "120\n",
    "```"
   ]
  },
  {
   "cell_type": "code",
   "execution_count": null,
   "id": "9c3a9b64-5666-4225-a3b1-4c015e8b04af",
   "metadata": {},
   "outputs": [],
   "source": [
    "# Read the integer n from the input\n",
    "N = int(input())\n",
    "\n",
    "# Initialize the factorial result to 1 (since 0! and 1! are both 1)\n",
    "factorial = 1\n",
    "\n",
    "# Calculate the factorial using a loop\n",
    "for i in range(1, N + 1):\n",
    "    factorial *= i\n",
    "\n",
    "# Print the factorial of the given number\n",
    "print(factorial)"
   ]
  },
  {
   "cell_type": "markdown",
   "id": "a4ca4401-adb4-4281-b11e-803cb9688ebe",
   "metadata": {},
   "source": [
    "# Q7: The number of zeros\n",
    "## Given N numbers: the first number in the input is N, after that N integers are given. Count the number of zeros among the given integers and print it.\n",
    "## You need to count the number of numbers that are equal to zero, not the number of zero digits.\n",
    "Example Input:\n",
    "```\n",
    "5\n",
    "0\n",
    "700\n",
    "0\n",
    "200\n",
    "2\n",
    "```\n",
    "Example Ouput:\n",
    "```\n",
    "2\n",
    "```"
   ]
  },
  {
   "cell_type": "markdown",
   "id": "d3e08030-c1db-485e-a5a8-cd0548c04aac",
   "metadata": {},
   "source": [
    "# Which of the following will add up the numbers from 1 to 4?"
   ]
  },
  {
   "cell_type": "code",
   "execution_count": null,
   "id": "6071dad9-fec4-4fd2-821f-373566cc0d99",
   "metadata": {},
   "outputs": [],
   "source": [
    "for i in range(1,4):\n",
    "    sum = 0\n",
    "    sum = sum + i\n",
    "print(sum)"
   ]
  },
  {
   "cell_type": "code",
   "execution_count": null,
   "id": "701b5425-fafc-48f7-bd4c-0da323e4052d",
   "metadata": {},
   "outputs": [],
   "source": [
    "sum = 0\n",
    "for i in range(1,4):\n",
    "    sum = sum + i\n",
    "print(sum)"
   ]
  },
  {
   "cell_type": "code",
   "execution_count": null,
   "id": "a4cf8327-11e0-4aa0-9c13-a4aeac0855ef",
   "metadata": {},
   "outputs": [],
   "source": [
    "for i in range(1,5):\n",
    "    sum = 0\n",
    "    sum = sum + i\n",
    "print(sum)"
   ]
  },
  {
   "cell_type": "code",
   "execution_count": null,
   "id": "b0cdd66c-0b91-4e4c-b067-c7a294c6b9a5",
   "metadata": {},
   "outputs": [],
   "source": [
    "sum = 0\n",
    "for i in range(1,5):\n",
    "    sum = sum + sum\n",
    "print(sum)"
   ]
  },
  {
   "cell_type": "code",
   "execution_count": null,
   "id": "4962bdb3-3a29-46ca-b6b2-537d89c424fc",
   "metadata": {},
   "outputs": [],
   "source": [
    "sum = 0\n",
    "for i in range(1,5):\n",
    "    sum = sum + i\n",
    "print(sum)"
   ]
  },
  {
   "cell_type": "markdown",
   "id": "6e1ce5e8-4ceb-42be-9a80-9f48b624f060",
   "metadata": {},
   "source": [
    "# Q8: Adding factorials\n",
    "### Given an integer n, print the sum 1!+2!+3!+...+n!.\n",
    "### This problem has a solution with only one loop, so try to discover it. And don't use the math library :)\n",
    "example input\n",
    "```\n",
    "4\n",
    "```\n",
    "example output\n",
    "```\n",
    "33\n",
    "```"
   ]
  },
  {
   "cell_type": "code",
   "execution_count": 7,
   "id": "7dd851fe-ed08-42a3-8a8d-5aebc9f90be1",
   "metadata": {},
   "outputs": [
    {
     "name": "stdin",
     "output_type": "stream",
     "text": [
      "Enter an integer n:  4\n"
     ]
    },
    {
     "name": "stdout",
     "output_type": "stream",
     "text": [
      "The sum of factorials from 1 to  4  is:  33\n"
     ]
    }
   ],
   "source": [
    "n = int(input(\"Enter an integer n: \"))\n",
    "total_sum = 0\n",
    "factorial = 1\n",
    "for i in range(1, n + 1):\n",
    "    factorial *= i  # Calculate i! by multiplying with the previous factorial\n",
    "    total_sum += factorial  # Add the current factorial to the total sum\n",
    "print(\"The sum of factorials from 1 to \",n,\" is: \",total_sum)\n"
   ]
  },
  {
   "cell_type": "markdown",
   "id": "3dd0bab5-bad2-4f90-b1f6-24344dc3d693",
   "metadata": {},
   "source": [
    "# Q9: Ladder\n",
    "### For given integer n ≤ 9 print a ladder of n steps. The k-th step consists of the integers from 1 to k without spaces between them.\n",
    "### To do that, you can use the sep and end arguments for the function print().\n",
    "Example input\n",
    "```\n",
    "4\n",
    "```\n",
    "Example output\n",
    "```\n",
    "1\n",
    "12\n",
    "123\n",
    "1234\n",
    "```"
   ]
  },
  {
   "cell_type": "code",
   "execution_count": 11,
   "id": "3c3ab2a3-b538-4108-98ce-dcd55fcdcaf8",
   "metadata": {},
   "outputs": [
    {
     "name": "stdin",
     "output_type": "stream",
     "text": [
      "Enter an integer n (n ≤ 9):  5\n"
     ]
    },
    {
     "name": "stdout",
     "output_type": "stream",
     "text": [
      "1\n",
      "12\n",
      "123\n",
      "1234\n",
      "12345\n"
     ]
    }
   ],
   "source": [
    "n = int(input(\"Enter an integer n (n ≤ 9): \"))\n",
    "\n",
    "for k in range(1, n + 1):\n",
    "    for i in range(1, k + 1):\n",
    "        print(i, end='')  # Prints numbers from 1 to k on the same line without spaces\n",
    "    print()  # Moves to the next line after printing each step\n"
   ]
  },
  {
   "cell_type": "markdown",
   "id": "2f19c713-b0c8-4bf4-9184-7fec872dddb9",
   "metadata": {},
   "source": [
    "# Lost card\n",
    "# There was a set of cards with numbers from 1 to N. One of the card is now lost. Determine the number on that lost card given the numbers for the remaining cards.\n",
    "# Given a number N, followed by N − 1 integers - representing the numbers on the remaining cards (distinct integers in the range from 1 to N). Find and print the number on the lost card.\n",
    "example input\n",
    "```\n",
    "5\n",
    "3\n",
    "5\n",
    "2\n",
    "1\n",
    "```\n",
    "example output\n",
    "```\n",
    "4\n",
    "```"
   ]
  },
  {
   "cell_type": "code",
   "execution_count": 13,
   "id": "3f003948-bfc4-46cb-83c0-621aa7228263",
   "metadata": {},
   "outputs": [
    {
     "name": "stdin",
     "output_type": "stream",
     "text": [
      " 5\n",
      " 1\n",
      " 1\n",
      " 1\n",
      " 1\n"
     ]
    },
    {
     "name": "stdout",
     "output_type": "stream",
     "text": [
      "11\n"
     ]
    }
   ],
   "source": [
    "N = int(input())\n",
    "total_sum = N * (N + 1) // 2  # 计算从1到 N的总和\n",
    "remaining_sum = 0  # 初始化剩余卡片的总和\n",
    "\n",
    "for _ in range(N - 1):\n",
    "    card = int(input())\n",
    "    remaining_sum += card  # 将剩余卡片的数字加到总和中\n",
    "\n",
    "lost_card = total_sum - remaining_sum  # 丢失的卡片是总和减去剩余卡片的总和\n",
    "print(lost_card)"
   ]
  },
  {
   "cell_type": "code",
   "execution_count": null,
   "id": "0b5e89f4-d7ed-4092-b04f-c05b476d5fed",
   "metadata": {},
   "outputs": [],
   "source": []
  }
 ],
 "metadata": {
  "kernelspec": {
   "display_name": "Python 3 (ipykernel)",
   "language": "python",
   "name": "python3"
  },
  "language_info": {
   "codemirror_mode": {
    "name": "ipython",
    "version": 3
   },
   "file_extension": ".py",
   "mimetype": "text/x-python",
   "name": "python",
   "nbconvert_exporter": "python",
   "pygments_lexer": "ipython3",
   "version": "3.11.7"
  }
 },
 "nbformat": 4,
 "nbformat_minor": 5
}
