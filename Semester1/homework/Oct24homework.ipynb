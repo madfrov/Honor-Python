{
 "cells": [
  {
   "cell_type": "markdown",
   "id": "53135dd9-0178-47fa-9e75-0034431b4ec2",
   "metadata": {},
   "source": [
    "# Question1\n",
    "## Given two integers A and B (A ≤ B). Print all numbers from A to B inclusively.\n",
    "### Sample input\n",
    "```\n",
    "1\n",
    "7\n",
    "```\n",
    "### Sample output\n",
    "```\n",
    "1 2 3 4 5 6 7\n",
    "```"
   ]
  },
  {
   "cell_type": "markdown",
   "id": "0a26757c-c921-4a33-a019-f48431e8adb1",
   "metadata": {},
   "source": [
    "#  Question2\n",
    "## Given two integers A and B (A ≤ B). Print all numbers from A to B inclusively,in ascending order, if A < B, or in descending order, if A ≥ B.\n",
    "### Sample input\n",
    "```\n",
    "1\n",
    "4\n",
    "```\n",
    "### Sample output\n",
    "```\n",
    "1 2 3 4\n",
    "```\n",
    "### Sample input\n",
    "```\n",
    "-4\n",
    "1\n",
    "```\n",
    "### Sample output\n",
    "```\n",
    "-4 -3 -2 -1 0 1\n",
    "```"
   ]
  },
  {
   "cell_type": "markdown",
   "id": "8a324512-b26e-4872-ac91-7608586eb990",
   "metadata": {},
   "source": [
    "# Q3 Sum of ten numbers\n",
    "## 10 numbers are given in the input.Read them and print their sum.Use as few variables as you can\n",
    "### sample input\n",
    "```\n",
    "1\n",
    "2\n",
    "3\n",
    "4\n",
    "5\n",
    "6\n",
    "7\n",
    "8\n",
    "9\n",
    "10\n",
    "```\n",
    "### output\n",
    "```\n",
    "55\n",
    "```"
   ]
  },
  {
   "cell_type": "markdown",
   "id": "2d887a59-5be8-4b5b-aa0f-76c2b1c2891c",
   "metadata": {},
   "source": [
    "# Q4:Sum of N numbers\n",
    "## N numbers are given in the input. Read them and print their sum.\n",
    "## The first line of input contains the integer N, which is the number of integers to follow. Each of the next N lines contains one integer. Print the sum of these N integers.\n",
    "```\n",
    "10 #input the number of N\n",
    "1\n",
    "2\n",
    "1\n",
    "1\n",
    "1\n",
    "1\n",
    "3\n",
    "1\n",
    "1\n",
    "1\n",
    "```\n",
    "output\n",
    "```\n",
    "13\n",
    "```"
   ]
  },
  {
   "cell_type": "markdown",
   "id": "a3ac1bfc-4575-47f5-94be-3c2b51e4a4c8",
   "metadata": {},
   "source": [
    "# Q5:Sum of cubes\n",
    "# For the given integer N calculate the following sum:\n",
    "$$1^3 + 2^3 + \\cdots + N^3$$\n",
    "Example Input\n",
    "```\n",
    "4\n",
    "```\n",
    "Example Output\n",
    "```\n",
    "100\n",
    "```\n"
   ]
  },
  {
   "cell_type": "markdown",
   "id": "0d994703-d5d9-477e-bfaf-4136cd0dfe46",
   "metadata": {},
   "source": [
    "# Q6:Factorial Calculation\n",
    "\n",
    "## In mathematics, the factorial of an integer n, denoted by n!is the following product:\n",
    "       n!=1×2×…×n\n",
    "## For the given integer n calculate the value n! Don't use math module in this exercise.\n",
    "Example input\n",
    "```\n",
    "5\n",
    "```\n",
    "Example output\n",
    "```\n",
    "120\n",
    "```"
   ]
  },
  {
   "cell_type": "markdown",
   "id": "a4ca4401-adb4-4281-b11e-803cb9688ebe",
   "metadata": {},
   "source": [
    "# Q7: The number of zeros\n",
    "## Given N numbers: the first number in the input is N, after that N integers are given. Count the number of zeros among the given integers and print it.\n",
    "## You need to count the number of numbers that are equal to zero, not the number of zero digits.\n",
    "Example Input:\n",
    "```\n",
    "5\n",
    "0\n",
    "700\n",
    "0\n",
    "200\n",
    "2\n",
    "```\n",
    "Example Ouput:\n",
    "```\n",
    "2\n",
    "```"
   ]
  },
  {
   "cell_type": "markdown",
   "id": "d3e08030-c1db-485e-a5a8-cd0548c04aac",
   "metadata": {},
   "source": [
    "# Which of the following will add up the numbers from 1 to 4?"
   ]
  },
  {
   "cell_type": "code",
   "execution_count": null,
   "id": "6071dad9-fec4-4fd2-821f-373566cc0d99",
   "metadata": {},
   "outputs": [],
   "source": [
    "for i in range(1,4):\n",
    "    sum = 0\n",
    "    sum = sum + i\n",
    "print(sum)"
   ]
  },
  {
   "cell_type": "code",
   "execution_count": null,
   "id": "701b5425-fafc-48f7-bd4c-0da323e4052d",
   "metadata": {},
   "outputs": [],
   "source": [
    "sum = 0\n",
    "for i in range(1,4):\n",
    "    sum = sum + i\n",
    "print(sum)"
   ]
  },
  {
   "cell_type": "code",
   "execution_count": null,
   "id": "a4cf8327-11e0-4aa0-9c13-a4aeac0855ef",
   "metadata": {},
   "outputs": [],
   "source": [
    "for i in range(1,5):\n",
    "    sum = 0\n",
    "    sum = sum + i\n",
    "print(sum)"
   ]
  },
  {
   "cell_type": "code",
   "execution_count": null,
   "id": "b0cdd66c-0b91-4e4c-b067-c7a294c6b9a5",
   "metadata": {},
   "outputs": [],
   "source": [
    "sum = 0\n",
    "for i in range(1,5):\n",
    "    sum = sum + sum\n",
    "print(sum)"
   ]
  },
  {
   "cell_type": "code",
   "execution_count": null,
   "id": "4962bdb3-3a29-46ca-b6b2-537d89c424fc",
   "metadata": {},
   "outputs": [],
   "source": [
    "sum = 0\n",
    "for i in range(1,5):\n",
    "    sum = sum + i\n",
    "print(sum)"
   ]
  },
  {
   "cell_type": "markdown",
   "id": "6e1ce5e8-4ceb-42be-9a80-9f48b624f060",
   "metadata": {},
   "source": [
    "# Q8: Adding factorials\n",
    "### Given an integer n, print the sum 1!+2!+3!+...+n!.\n",
    "### This problem has a solution with only one loop, so try to discover it. And don't use the math library :)\n",
    "example input\n",
    "```\n",
    "4\n",
    "```\n",
    "example output\n",
    "```\n",
    "33\n",
    "```"
   ]
  },
  {
   "cell_type": "markdown",
   "id": "3dd0bab5-bad2-4f90-b1f6-24344dc3d693",
   "metadata": {},
   "source": [
    "# Q9: Ladder\n",
    "### For given integer n ≤ 9 print a ladder of n steps. The k-th step consists of the integers from 1 to k without spaces between them.\n",
    "### To do that, you can use the sep and end arguments for the function print().\n",
    "Example input\n",
    "```\n",
    "4\n",
    "```\n",
    "Example output\n",
    "```\n",
    "1\n",
    "12\n",
    "123\n",
    "1234\n",
    "```"
   ]
  },
  {
   "cell_type": "markdown",
   "id": "2f19c713-b0c8-4bf4-9184-7fec872dddb9",
   "metadata": {},
   "source": [
    "# Q10 Lost card\n",
    "# There was a set of cards with numbers from 1 to N. One of the card is now lost. Determine the number on that lost card given the numbers for the remaining cards.\n",
    "# Given a number N, followed by N − 1 integers - representing the numbers on the remaining cards (distinct integers in the range from 1 to N). Find and print the number on the lost card.\n",
    "example input\n",
    "```\n",
    "5\n",
    "3\n",
    "5\n",
    "2\n",
    "1\n",
    "```\n",
    "example output\n",
    "```\n",
    "4\n",
    "```"
   ]
  },
  {
   "cell_type": "markdown",
   "id": "3eec9acf",
   "metadata": {},
   "source": [
    "# Q11:https://github.com/madfrov/AP-USACO/blob/main/Bronze/Bronze%5BUSACO18DEC%5D%20Mixing%20Milk%20B.md"
   ]
  }
 ],
 "metadata": {
  "kernelspec": {
   "display_name": "Python 3 (ipykernel)",
   "language": "python",
   "name": "python3"
  },
  "language_info": {
   "codemirror_mode": {
    "name": "ipython",
    "version": 3
   },
   "file_extension": ".py",
   "mimetype": "text/x-python",
   "name": "python",
   "nbconvert_exporter": "python",
   "pygments_lexer": "ipython3",
   "version": "3.11.7"
  }
 },
 "nbformat": 4,
 "nbformat_minor": 5
}
