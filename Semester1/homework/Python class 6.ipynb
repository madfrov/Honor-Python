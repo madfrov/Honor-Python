{
 "cells": [
  {
   "cell_type": "markdown",
   "id": "fa15e4b4-6d77-43db-b7f1-2f5565e209aa",
   "metadata": {},
   "source": [
    "# Conditions: if, then, else"
   ]
  },
  {
   "cell_type": "markdown",
   "id": "cbd82426-c966-4154-8a96-b85fcd8d5e3f",
   "metadata": {},
   "source": [
    "## 1. Syntax\n",
    "### All the programs in the first lesson were executed sequentially, line after line. No line could be skipped.\n",
    "\n",
    "### Let's consider the following problem:\n",
    "#### For the given integer X determine its absolute value.\n",
    "#### If X>0 then the program should print the value X, otherwise it should print -X.\n",
    "#### This behavior can't be reached using the sequential program. The program should conditionally select the next step.\n",
    "#### That's where the conditions help:"
   ]
  },
  {
   "cell_type": "code",
   "execution_count": 30,
   "id": "ceaa0c04-84ce-4de2-899d-b233b9987372",
   "metadata": {},
   "outputs": [
    {
     "name": "stdin",
     "output_type": "stream",
     "text": [
      " 5678\n"
     ]
    },
    {
     "name": "stdout",
     "output_type": "stream",
     "text": [
      "5678\n"
     ]
    }
   ],
   "source": [
    "x = int(input())\n",
    "if  x > 0:\n",
    "    print(x)\n",
    "else:\n",
    "    print(-x)"
   ]
  },
  {
   "cell_type": "markdown",
   "id": "7dcae67e-c3eb-45c9-95b5-dc06eff250ea",
   "metadata": {},
   "source": [
    "#### This program uses a conditional statement if. \n",
    "#### After the if we put a condition (x > 0) following by a colon. \n",
    "#### After that we put a block of instructions which will be executed only if the condition is true (i.e. evaluates to True).\n",
    "#### This block may be followed by the word else, colon and another block of instructions \n",
    "#### which will be executed only if the condition is false (i.e. evaluates to False).\n",
    "#### Is the case above, the condition is false, so the 'else' block is executed. \n",
    "#### Each block should be indented using spaces."
   ]
  },
  {
   "cell_type": "markdown",
   "id": "14387179-54fe-4149-b0d7-2f1b34cfc795",
   "metadata": {},
   "source": [
    "## To sum up, the conditional statement in Python has the following syntax:"
   ]
  },
  {
   "cell_type": "code",
   "execution_count": null,
   "id": "c5a1833c-d8df-49f9-acc5-7d13e6fd54ce",
   "metadata": {},
   "outputs": [],
   "source": [
    "if condition:\n",
    "    true-block\n",
    "    several instructions that are executed\n",
    "    if the condition evaluates to True\n",
    "else:\n",
    "    false-block\n",
    "    several instructions that are executed\n",
    "    if the condition evaluates to False"
   ]
  },
  {
   "cell_type": "markdown",
   "id": "d236c8b5-4828-4f84-849b-9ef142aac70c",
   "metadata": {},
   "source": [
    "#### The else keyword with the 'false' block may be omitted in case nothing should be done if the condition is false.\n",
    "#### For example, we can replace the variable x with its absolute value like this:"
   ]
  },
  {
   "cell_type": "code",
   "execution_count": 2,
   "id": "f8d72df4-4c4c-4c57-b79d-7c9972c3e094",
   "metadata": {},
   "outputs": [
    {
     "name": "stdin",
     "output_type": "stream",
     "text": [
      " -5\n"
     ]
    },
    {
     "name": "stdout",
     "output_type": "stream",
     "text": [
      "5\n"
     ]
    }
   ],
   "source": [
    "x = int(input())\n",
    "if x < 0:\n",
    "    x = -x\n",
    "print(x)"
   ]
  },
  {
   "cell_type": "markdown",
   "id": "c2f12a2f-c06a-446f-adb8-eb7f7d5016ab",
   "metadata": {},
   "source": [
    "#### In this example the variable x is assigned to -x only if x < 0. \n",
    "#### In contrast, the instruction print(x) is executed every time, because it's not indented,\n",
    "#### So it doesn't belong to the 'true' block.\n",
    "\n",
    "\n",
    "#### Indentation is a general way in Python to separate blocks of code. \n",
    "#### All instructions within the same block should be indented in the same way, \n",
    "#### They should have the same number of spaces at the beginning of the line.\n",
    "#### It's recommended to use 4 spaces for indentation.\n",
    "\n",
    "\n",
    "#### The indentation is what makes Python different from the most of other language,\n",
    "#### In which the curly braces { and } are used to form the blocks.\n",
    "\n",
    "\n",
    "#### By the way, there's a builtin-function for absolute value in Python:"
   ]
  },
  {
   "cell_type": "code",
   "execution_count": 4,
   "id": "8da143cb-8826-4d0a-a541-dad1f4b6bb77",
   "metadata": {},
   "outputs": [
    {
     "name": "stdin",
     "output_type": "stream",
     "text": [
      " -5\n"
     ]
    },
    {
     "name": "stdout",
     "output_type": "stream",
     "text": [
      "5\n"
     ]
    }
   ],
   "source": [
    "x = int(input())\n",
    "print(abs(x))"
   ]
  },
  {
   "cell_type": "markdown",
   "id": "8cf76b05-d260-4d8f-bac8-17d3b7372675",
   "metadata": {},
   "source": [
    "# Ex1: Minimum of two numbers\n",
    "## Given two integers, print the smaller value."
   ]
  },
  {
   "cell_type": "code",
   "execution_count": 43,
   "id": "bce4ebb2-d0a2-4238-8ddd-54a386acfe78",
   "metadata": {},
   "outputs": [
    {
     "name": "stdin",
     "output_type": "stream",
     "text": [
      "Enter an integer:  2\n"
     ]
    },
    {
     "name": "stdout",
     "output_type": "stream",
     "text": [
      "smaller than 3\n",
      "larger than 1\n"
     ]
    }
   ],
   "source": [
    "# Define two integers\n",
    "num1 = int(input(\"Enter an integer: \"))\n",
    "# num2 = int(input(\"Enter an integer: \"))\n",
    "\n",
    "# Compare the integers and print the smaller one\n",
    "if num1 < 3:\n",
    "    print(\"smaller than 3\")\n",
    "if num1 > 1:\n",
    "    print(\"larger than 1\")\n",
    "else:\n",
    "    print(num1)"
   ]
  },
  {
   "cell_type": "markdown",
   "id": "2177a3d5-326e-42e5-8140-13d05cf30f66",
   "metadata": {},
   "source": [
    "# Ex2: Sign function\n",
    "## For the given integer X print 1 if it's positive, -1 if it's negative, or 0 if it's equal to zero.\n",
    "## Try to use the cascade if-elif-else for it."
   ]
  },
  {
   "cell_type": "code",
   "execution_count": 42,
   "id": "3b4316ff-6f32-4b00-ad04-0e0a2c1e5a39",
   "metadata": {},
   "outputs": [
    {
     "name": "stdin",
     "output_type": "stream",
     "text": [
      "Enter an integer:  3\n"
     ]
    },
    {
     "name": "stdout",
     "output_type": "stream",
     "text": [
      "1\n",
      "-1\n"
     ]
    }
   ],
   "source": [
    "# Read the integer X\n",
    "X = int(input(\"Enter an integer: \"))\n",
    "\n",
    "# Determine if X is positive, negative, or zero\n",
    "if X > 0:\n",
    "    print(1)\n",
    "elif X < 0:\n",
    "    print(-1)\n",
    "else:\n",
    "    print(0)"
   ]
  },
  {
   "cell_type": "markdown",
   "id": "89434e37-081b-459b-ab29-edbc8b1ba14e",
   "metadata": {},
   "source": [
    "# 2. Nested conditions\n",
    "### Any Python instruction may be put into 'true' blocks and 'false' block, including another conditional statement.\n",
    "### This way we get nested conditions. The blocks of inner conditions are indented using twice more spaces (eg. 8 spaces).\n",
    "### Let's see an example. Given the coordinates of the point on the plane, print its quadrant."
   ]
  },
  {
   "cell_type": "code",
   "execution_count": 6,
   "id": "c698ff45-96c8-46db-8a4b-db3c08f387c3",
   "metadata": {},
   "outputs": [
    {
     "name": "stdin",
     "output_type": "stream",
     "text": [
      " 3\n",
      " 4\n"
     ]
    },
    {
     "name": "stdout",
     "output_type": "stream",
     "text": [
      "Quadrant I\n"
     ]
    }
   ],
   "source": [
    "x = int(input())\n",
    "y = int(input())\n",
    "if x > 0:\n",
    "    if y > 0:\n",
    "        # x is greater than 0, y is greater than 0\n",
    "        print(\"Quadrant I\")\n",
    "    else:    \n",
    "        # x is greater than 0, y is less or equal than 0\n",
    "        print(\"Quadrant IV\")\n",
    "else:\n",
    "    if y > 0:\n",
    "        # x is less or equal than 0, y is greater than 0\n",
    "        print(\"Quadrant II\")\n",
    "    else:    \n",
    "        # x is less or equal than 0, y is less or equal than 0\n",
    "        print(\"Quadrant III\")"
   ]
  },
  {
   "cell_type": "markdown",
   "id": "e9f9b7f2-6cc7-4f58-b285-43f002b9a94c",
   "metadata": {},
   "source": [
    "### In this example we use the comments: the explanatory text that has no effect on program execution. \n",
    "### This text starts with the hash # and lasts till the end of the line."
   ]
  },
  {
   "cell_type": "markdown",
   "id": "99a4f517-63bb-4a66-af67-3a1693f541f4",
   "metadata": {},
   "source": [
    "# 3. Comparison operators\n",
    "### Usually the condition after if has one or more of the following operators:\n",
    "### <\n",
    "### less — the condition is true if left side is less than right side.\n",
    "### >\n",
    "### greater — the condition is true if left side is greater than right side.\n",
    "### <=\n",
    "### less or equal.\n",
    "### >=\n",
    "### greater or equal.\n",
    "### ==\n",
    "### equal.\n",
    "### !=\n",
    "### not equal.\n",
    "### For example, the condition x * x < 1000 means “the value of the expression x * x is less than 1000”,\n",
    "### and the condition 2 * x != y means “the doubled value of the variable x is not equal to the value of the variable y”.\n",
    "\n",
    "### The comparison operators in Python may be grouped together like this: a == b == c or x <= y >= 10. \n",
    "### It's a rare thing among programming languages"
   ]
  },
  {
   "cell_type": "markdown",
   "id": "7ef76898-4db2-4237-b52b-dc6ea0781ab4",
   "metadata": {},
   "source": [
    "# Ex3:Equal numbers\n",
    "### Given three integers, determine how many of them are equal to each other. \n",
    "### The program must print one of these numbers: 3 (if all are the same), \n",
    "### 2 (if two of them are equal to each other and the third is different) or 0 (if all numbers are different)."
   ]
  },
  {
   "cell_type": "code",
   "execution_count": null,
   "id": "3e8ab458-3c9b-4aa8-96d5-4bcf2efc8142",
   "metadata": {},
   "outputs": [],
   "source": [
    "# Read three integers\n",
    "a = int(input(\"Enter the first integer: \"))\n",
    "b = int(input(\"Enter the second integer: \"))\n",
    "c = int(input(\"Enter the third integer: \"))\n",
    "\n",
    "# Determine the number of equal integers\n",
    "if a == b == c:\n",
    "    print(3)\n",
    "elif a == b or a == c or b == c:\n",
    "    print(2)\n",
    "else:\n",
    "    print(0)"
   ]
  },
  {
   "cell_type": "markdown",
   "id": "fd6565ac-efbf-477e-af61-6156293dfe66",
   "metadata": {},
   "source": [
    "# Ex4: Rook move\n",
    "### Chess rook moves horizontally or vertically. Given two different cells of the chessboard, \n",
    "### determine whether a rook can go from the first cell to the second in one move.\n",
    "### The program receives the input of four numbers from 1 to 8, each specifying the column and row number,\n",
    "### first two - for the first cell, and then the last two - for the second cell. The program should output YES if a rook can go from the first cell to the second in one move, or NO otherwise.\n",
    "![](https://snakify.org/static/images/problems/rook_move.png)"
   ]
  },
  {
   "cell_type": "code",
   "execution_count": 24,
   "id": "591c1ad5-c206-4ed9-802e-7b1a97b2b922",
   "metadata": {},
   "outputs": [
    {
     "name": "stdin",
     "output_type": "stream",
     "text": [
      "Enter the column number of the first cell:  1\n",
      "Enter the row number of the first cell:  2\n",
      "Enter the column number of the second cell:  1\n",
      "Enter the row number of the second cell:  8\n"
     ]
    },
    {
     "name": "stdout",
     "output_type": "stream",
     "text": [
      "YES\n"
     ]
    }
   ],
   "source": [
    "# Read the coordinates of the first and second cells\n",
    "x1 = int(input(\"Enter the column number of the first cell: \"))\n",
    "y1 = int(input(\"Enter the row number of the first cell: \"))\n",
    "x2 = int(input(\"Enter the column number of the second cell: \"))\n",
    "y2 = int(input(\"Enter the row number of the second cell: \"))\n",
    "\n",
    "# Check if the rook can move from the first to the second cell\n",
    "if x1 == x2 or y1 == y2:\n",
    "    print(\"YES\")\n",
    "else:\n",
    "    print(\"NO\")"
   ]
  },
  {
   "cell_type": "markdown",
   "id": "4352c1a5-d004-4108-ae65-176884a6ddbe",
   "metadata": {
    "jp-MarkdownHeadingCollapsed": true
   },
   "source": [
    "# King move\n",
    "### Chess king moves horizontally, vertically or diagonally to any adjacent cell. \n",
    "### Given two different cells of the chessboard, determine whether a king can go from the first cell to the second in one move.\n",
    "### The program receives the input of four numbers from 1 to 8, each specifying the column and row number, \n",
    "### first two - for the first cell, and then the last two - for the second cell.\n",
    "### The program should output YES if a king can go from the first cell to the second in one move, or NO otherwise.\n",
    "![](https://snakify.org/static/images/problems/king_move.png)"
   ]
  },
  {
   "cell_type": "code",
   "execution_count": 45,
   "id": "c41cdcfb-f43d-40d0-b0e1-4f18b2eddb33",
   "metadata": {},
   "outputs": [
    {
     "name": "stdin",
     "output_type": "stream",
     "text": [
      "Enter the column number of the first cell:  1\n",
      "Enter the row number of the first cell:  1\n",
      "Enter the column number of the second cell:  2\n",
      "Enter the row number of the second cell:  2\n"
     ]
    },
    {
     "name": "stdout",
     "output_type": "stream",
     "text": [
      "YES\n"
     ]
    }
   ],
   "source": [
    "# Read the coordinates of the first and second cells\n",
    "x1 = int(input(\"Enter the column number of the first cell: \"))\n",
    "y1 = int(input(\"Enter the row number of the first cell: \"))\n",
    "x2 = int(input(\"Enter the column number of the second cell: \"))\n",
    "y2 = int(input(\"Enter the row number of the second cell: \"))\n",
    "\n",
    "# Check if the king can move from the first to the second cell\n",
    "if abs(x1 - x2) <= 1 and abs(y1 - y2) <= 1:\n",
    "    print(\"YES\")\n",
    "else:\n",
    "    print(\"NO\")"
   ]
  },
  {
   "attachments": {
    "c68d6732-9a18-428c-9f88-f7f6bf4a872b.png": {
     "image/png": "[encoded data removed]"
    }
   },
   "cell_type": "markdown",
   "id": "61ff3ae0-8fa7-4648-a44a-7f4061facdd1",
   "metadata": {
    "jp-MarkdownHeadingCollapsed": true
   },
   "source": [
    "# Queen move\n",
    "### Chess queen moves horizontally, vertically or diagonally to any number of cells. \n",
    "### Given two different cells of the chessboard, determine whether a queen can go from the first cell to the second in one move.\n",
    "### The program receives the input of four numbers from 1 to 8, each specifying the column and row number,\n",
    "### first two - for the first cell, and then the last two - for the second cell. \n",
    "### The program should output YES if a queen can go from the first cell to the second in one move, or NO otherwise.\n",
    "![image.png](attachment:c68d6732-9a18-428c-9f88-f7f6bf4a872b.png)"
   ]
  },
  {
   "cell_type": "code",
   "execution_count": 46,
   "id": "32e013d0-3a7b-47cf-b727-22e175b7fd8b",
   "metadata": {},
   "outputs": [
    {
     "name": "stdin",
     "output_type": "stream",
     "text": [
      "Enter the column number of the first cell:  1\n",
      "Enter the row number of the first cell:  1\n",
      "Enter the column number of the second cell:  -4\n",
      "Enter the row number of the second cell:  -4\n"
     ]
    },
    {
     "name": "stdout",
     "output_type": "stream",
     "text": [
      "YES\n"
     ]
    }
   ],
   "source": [
    "# Read the coordinates of the first and second cells\n",
    "x1 = int(input(\"Enter the column number of the first cell: \"))\n",
    "y1 = int(input(\"Enter the row number of the first cell: \"))\n",
    "x2 = int(input(\"Enter the column number of the second cell: \"))\n",
    "y2 = int(input(\"Enter the row number of the second cell: \"))\n",
    "\n",
    "# Check if the queen can move from the first to the second cell\n",
    "if x1 == x2 or y1 == y2 or abs(x1 - x2) == abs(y1 - y2):\n",
    "    print(\"YES\")\n",
    "else:\n",
    "    print(\"NO\")"
   ]
  },
  {
   "attachments": {
    "9f99e202-bd44-45d8-9f8a-05862e2d34c7.png": {
     "image/png": "[encoded data removed]"
    }
   },
   "cell_type": "markdown",
   "id": "37cb61ef-6a85-4ae9-83b8-75ff1ce44394",
   "metadata": {
    "jp-MarkdownHeadingCollapsed": true
   },
   "source": [
    "# Knight move\n",
    "### Chess knight moves like the letter L. \n",
    "### It can move two cells horizontally and one cell vertically, or two cells vertically and one cells horizontally. \n",
    "### Given two different cells of the chessboard, determine whether a knight can go from the first cell to the second in one move.\n",
    "### The program receives the input of four numbers from 1 to 8, each specifying the column and row number, first two - \n",
    "### for the first cell, and then the last two - for the second cell. \n",
    "### The program should output YES if a knight can go from the first cell to the second in one move, or NO otherwise.\n",
    "![image.png](attachment:9f99e202-bd44-45d8-9f8a-05862e2d34c7.png)"
   ]
  },
  {
   "cell_type": "markdown",
   "id": "eedfdb46-563e-490d-8652-ddd3d7d41462",
   "metadata": {
    "jp-MarkdownHeadingCollapsed": true
   },
   "source": [
    "# Chocolate bar\n",
    "### Chocolate bar has the form of a rectangle divided into n×m portions. \n",
    "### Chocolate bar can be split into two rectangular parts by breaking it along a selected straight line on its pattern. \n",
    "### Determine whether it is possible to split it so that one of the parts will have exactly k squares.\n",
    "### The program reads three integers: n, m, and k. It should print YES or NO."
   ]
  },
  {
   "cell_type": "code",
   "execution_count": 47,
   "id": "5f5113aa-a3d1-422b-9cb3-9c1a61f7ed38",
   "metadata": {},
   "outputs": [
    {
     "name": "stdin",
     "output_type": "stream",
     "text": [
      "Enter the number of rows (n):  7\n",
      "Enter the number of columns (m):  4\n",
      "Enter the number of squares to split off (k):  21\n"
     ]
    },
    {
     "name": "stdout",
     "output_type": "stream",
     "text": [
      "YES\n"
     ]
    }
   ],
   "source": [
    "# Read inputs for n, m, and k\n",
    "n = int(input(\"Enter the number of rows (n): \"))\n",
    "m = int(input(\"Enter the number of columns (m): \"))\n",
    "k = int(input(\"Enter the number of squares to split off (k): \"))\n",
    "\n",
    "# Check if it's possible to split the chocolate bar\n",
    "if (k <= n * m) and ((k % n == 0) or (k % m == 0)):\n",
    "    print(\"YES\")\n",
    "else:\n",
    "    print(\"NO\")"
   ]
  },
  {
   "cell_type": "markdown",
   "id": "1f5d856a-d3a8-4c36-ba73-87764a5dc6b5",
   "metadata": {
    "jp-MarkdownHeadingCollapsed": true
   },
   "source": [
    "# Leap year\n",
    "### Given the year number. You need to check if this year is a leap year. If it is, print LEAP, otherwise print COMMON.\n",
    "### The rules in Gregorian calendar are as follows:\n",
    "\n",
    "### a year is a leap year if its number is exactly divisible by 4 and is not exactly divisible by 100\n",
    "### a year is always a leap year if its number is exactly divisible by 400\n",
    "### Warning. The words LEAP and COMMON should be printed all caps."
   ]
  },
  {
   "cell_type": "code",
   "execution_count": 48,
   "id": "c1873a51-bdb3-4e21-92b7-6bbc3fe66419",
   "metadata": {},
   "outputs": [
    {
     "name": "stdin",
     "output_type": "stream",
     "text": [
      "Enter the year:  2000\n"
     ]
    },
    {
     "name": "stdout",
     "output_type": "stream",
     "text": [
      "LEAP\n"
     ]
    }
   ],
   "source": [
    "# Read the input year\n",
    "year = int(input(\"Enter the year: \"))\n",
    "\n",
    "# Determine if the year is a leap year\n",
    "if (year % 4 == 0 and year % 100 != 0) or (year % 400 == 0):\n",
    "    print(\"LEAP\")\n",
    "else:\n",
    "    print(\"COMMON\")"
   ]
  },
  {
   "cell_type": "code",
   "execution_count": null,
   "id": "29c6f5ca-db66-4b87-8234-8d4a747d1e8f",
   "metadata": {},
   "outputs": [],
   "source": []
  }
 ],
 "metadata": {
  "kernelspec": {
   "display_name": "Python 3 (ipykernel)",
   "language": "python",
   "name": "python3"
  },
  "language_info": {
   "codemirror_mode": {
    "name": "ipython",
    "version": 3
   },
   "file_extension": ".py",
   "mimetype": "text/x-python",
   "name": "python",
   "nbconvert_exporter": "python",
   "pygments_lexer": "ipython3",
   "version": "3.11.7"
  }
 },
 "nbformat": 4,
 "nbformat_minor": 5
}
