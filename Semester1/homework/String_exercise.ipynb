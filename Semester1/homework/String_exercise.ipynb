{
 "cells": [
  {
   "cell_type": "markdown",
   "id": "3afe971e-93c8-41e6-8168-db15f0a32cd2",
   "metadata": {},
   "source": [
    "# Exercise 1 Slices\n",
    "## You are given a string.\n",
    "### In the first line, print the third character of this string.\n",
    "### In the second line, print the second to last character of this string.\n",
    "\n",
    "### In the third line, print the first five characters of this string.\n",
    "\n",
    "### In the fourth line, print all but the last two characters of this string.\n",
    "\n",
    "### In the fifth line, print all the characters of this string with even indices (remember indexing starts at 0, so the characters are displayed starting with the first).\n",
    "\n",
    "### In the sixth line, print all the characters of this string with odd indices (i.e. starting with the second character in the string).\n",
    "\n",
    "### In the seventh line, print all the characters of the string in reverse order.\n",
    "\n",
    "### In the eighth line, print every second character of the string in reverse order, starting from the last one.\n",
    "\n",
    "### In the ninth line, print the length of the given string."
   ]
  },
  {
   "cell_type": "code",
   "execution_count": null,
   "id": "9c5e0363-92f8-44d6-b045-fb09702db1f4",
   "metadata": {},
   "outputs": [],
   "source": []
  },
  {
   "cell_type": "markdown",
   "id": "d336559e-43bf-4cd8-a621-09ed78bc6d31",
   "metadata": {},
   "source": [
    "# Exercise 2 The number of words\n",
    "### Given a string consisting of words separated by spaces. Determine how many words it has. To solve the problem, use the method count."
   ]
  },
  {
   "cell_type": "markdown",
   "id": "ac213845-0b60-4da3-b05d-a8163f0ae205",
   "metadata": {},
   "source": [
    "# Exercise 3 The two halves\n",
    "### Given a string. Cut it into two \"equal\" parts (If the length of the string is odd, place the center character in the first string, so that the first string contains one more characther than the second). Now print a new string on a single row with the first and second halfs interchanged (second half first and the first half second)\n",
    "Don't use the statement if in this task."
   ]
  },
  {
   "cell_type": "code",
   "execution_count": null,
   "id": "c1e70723-c1f4-4e3f-8ea9-daa3a75083fc",
   "metadata": {},
   "outputs": [],
   "source": []
  }
 ],
 "metadata": {
  "kernelspec": {
   "display_name": "Python 3 (ipykernel)",
   "language": "python",
   "name": "python3"
  },
  "language_info": {
   "codemirror_mode": {
    "name": "ipython",
    "version": 3
   },
   "file_extension": ".py",
   "mimetype": "text/x-python",
   "name": "python",
   "nbconvert_exporter": "python",
   "pygments_lexer": "ipython3",
   "version": "3.11.7"
  }
 },
 "nbformat": 4,
 "nbformat_minor": 5
}
