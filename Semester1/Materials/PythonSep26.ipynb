{
 "cells": [
  {
   "cell_type": "markdown",
   "id": "67ec78e6-4061-471f-99c5-99736da0c28e",
   "metadata": {},
   "source": [
    "# 1. How to read and write in Python\n",
    "Every program is eventually a data processor, so we should know how to input and output data within it.\n",
    "There exists a function, print(), to output data from any Python program.\n",
    "To use it, pass a comma separated list of arguments that you want to print to the print() function. \n",
    "Let's see an example. Press \"run\" and then \"next\" to see how the program is being executed line by line:"
   ]
  },
  {
   "cell_type": "code",
   "execution_count": 10,
   "id": "0425a00d-5beb-4dbe-80f6-a9f9dd695a64",
   "metadata": {},
   "outputs": [
    {
     "name": "stdout",
     "output_type": "stream",
     "text": [
      "THE AVERAGE OF CLASS 1: 15\n",
      "21 120\n",
      "65536\n",
      "12.333333333333334\n",
      "12\n",
      "1\n"
     ]
    }
   ],
   "source": [
    "print(\"THE AVERAGE OF CLASS 1:\",5 + 10)\n",
    "print(3 * 7,(17 - 2) * 8)\n",
    "print(2 ** 16)  # two stars are used for exponentiation (2 to the power of 16)\n",
    "print(37 / 3)  # single forward slash is a division\n",
    "print(37 // 3)  # double forward slash is an integer division\n",
    "        # it returns only the quotient of the division (i.e. no remainder)\n",
    "print(37 % 3)  # percent sign is a modulus operator\n",
    "        # it gives the remainder of the left value divided by the right value"
   ]
  },
  {
   "cell_type": "markdown",
   "id": "17f1e2d0-7d04-45c8-a4d9-aa08e9fa7c55",
   "metadata": {},
   "source": [
    "# To input data into a program, we use input(). This function reads a single line of text, as a String.\n",
    "Here's a program that reads the user's name and greets them:"
   ]
  },
  {
   "cell_type": "code",
   "execution_count": 17,
   "id": "71f37131-de2b-4367-96db-2e07b4fa1934",
   "metadata": {},
   "outputs": [
    {
     "name": "stdout",
     "output_type": "stream",
     "text": [
      "What is your name?\n"
     ]
    },
    {
     "name": "stdin",
     "output_type": "stream",
     "text": [
      " 23456xcvbncvbnmbnm,.///.-=-8\n"
     ]
    },
    {
     "name": "stdout",
     "output_type": "stream",
     "text": [
      "Hi 23456xcvbncvbnmbnm,.///.-=-8!\n"
     ]
    }
   ],
   "source": [
    "print('What is your name?')\n",
    "name = input()  # read a single line and store it in the variable \"name\"\n",
    "print('Hi '+ name +'!')"
   ]
  },
  {
   "cell_type": "markdown",
   "id": "18f83e2d-a190-4226-8b1f-d4b2a33b2fac",
   "metadata": {},
   "source": [
    "# 2. Sum of numbers and strings\n",
    "Let's try to write a program that inputs two numbers and prints their sum. \n",
    "We read the two numbers and store them in the variables a and b using the assignment operator =. \n",
    "On the left side of an assignment operator we put the name of the variable. \n",
    "The name could be a string of latin characters (A-Z, a-z, 0-9, _) \n",
    "but must start with a letter in the range A-Z or a-z. \n",
    "On the right side of an assignment operator we put any expression that Python can evaluate. \n",
    "The name starts pointing to the result of the evaluation. Read this example, run it and look at the output:"
   ]
  },
  {
   "cell_type": "code",
   "execution_count": 24,
   "id": "58efbb95-f89c-4d7f-a9e6-0e14c3fef8cf",
   "metadata": {},
   "outputs": [
    {
     "name": "stdin",
     "output_type": "stream",
     "text": [
      "pls input the int of A 1\n",
      "pls input the int of A 1\n"
     ]
    },
    {
     "name": "stdout",
     "output_type": "stream",
     "text": [
      "1          1\n"
     ]
    }
   ],
   "source": [
    "a = input(\"pls input the int of A\")\n",
    "b = input(\"pls input the int of A\")\n",
    "s = a +\"          \"+ b\n",
    "print(s)"
   ]
  },
  {
   "cell_type": "markdown",
   "id": "854ba071-2289-4b85-b6a3-90b2cdfa8a5c",
   "metadata": {},
   "source": [
    "After running the example we can see that it prints 57. As we were taught in school, 5 + 7 gives 12. So, the program is wrong, and it's important to understand why. The thing is, in the third line s = a + b Python has \"summed\" two strings, rather than two numbers. The sum of two strings in Python works as follows: they are just glued one after another. It's also sometimes called \"string concatenation\".\n",
    "\n",
    "Do you see in the variable inspector, on the right hand side, that the values bound to variables a and b are wrapped in quotes? That means that the values there are string, not numbers. Strings and numbers are represented in Python differently.\n",
    "\n",
    "All the values in Python are called \"objects\". Every object has a certain type. The number 2 corresponds to an object \"number 2\" of type \"int\" (i.e., an integer number). The string 'hello' corresponds to an object \"string 'hello'\" of type \"str\". Every floating-point number is represented as an object of type \"float\". The type of an object specifies what kind of operations may be applied to it. For instance, if the two variables \"first\" and \"second\" are pointing to the objects of type int, Python can multiply them. However, if they are pointing to the objects of type str, Python can't do that:"
   ]
  },
  {
   "cell_type": "code",
   "execution_count": 47,
   "id": "f746635e-c553-478c-a695-c1f9721ea86f",
   "metadata": {},
   "outputs": [
    {
     "name": "stdout",
     "output_type": "stream",
     "text": [
      "35\n"
     ]
    },
    {
     "ename": "TypeError",
     "evalue": "can't multiply sequence by non-int of type 'str'",
     "output_type": "error",
     "traceback": [
      "\u001b[0;31m---------------------------------------------------------------------------\u001b[0m",
      "\u001b[0;31mTypeError\u001b[0m                                 Traceback (most recent call last)",
      "Cell \u001b[0;32mIn[47], line 8\u001b[0m\n\u001b[1;32m      6\u001b[0m first \u001b[38;5;241m=\u001b[39m \u001b[38;5;124m\"\u001b[39m\u001b[38;5;124m5\u001b[39m\u001b[38;5;124m\"\u001b[39m\n\u001b[1;32m      7\u001b[0m second \u001b[38;5;241m=\u001b[39m \u001b[38;5;124m\"\u001b[39m\u001b[38;5;124m7\u001b[39m\u001b[38;5;124m\"\u001b[39m\n\u001b[0;32m----> 8\u001b[0m \u001b[38;5;28mprint\u001b[39m(first \u001b[38;5;241m*\u001b[39m second)\n",
      "\u001b[0;31mTypeError\u001b[0m: can't multiply sequence by non-int of type 'str'"
     ]
    }
   ],
   "source": [
    "first = 5\n",
    "second = 7\n",
    "print(first * second)\n",
    "\n",
    "# You can use single or double quotes to define a string\n",
    "first = \"5\"\n",
    "second = \"7\"\n",
    "print(first * second)"
   ]
  },
  {
   "cell_type": "markdown",
   "id": "51dc4e06-6fdc-4553-94fb-f7feb328847b",
   "metadata": {},
   "source": [
    "# To cast (convert) the string of digits into an integer number, we can use the function int(). \n",
    "For example, int('23') gives an int object with value 23.\n",
    "Given the information above, we can now fix the incorrect output and output the sum of the two numbers correctly:"
   ]
  },
  {
   "cell_type": "code",
   "execution_count": 48,
   "id": "761868fb-6bdc-4682-8b19-ed92e11b25b3",
   "metadata": {},
   "outputs": [
    {
     "name": "stdin",
     "output_type": "stream",
     "text": [
      " 1\n",
      " 2\n"
     ]
    },
    {
     "name": "stdout",
     "output_type": "stream",
     "text": [
      "3\n"
     ]
    }
   ],
   "source": [
    "a = int(input())\n",
    "b = int(input())\n",
    "s = a + b\n",
    "print(s)\n"
   ]
  },
  {
   "cell_type": "code",
   "execution_count": 43,
   "id": "a0ccdc3a-3e02-49ee-82c7-b331f5aedc68",
   "metadata": {},
   "outputs": [
    {
     "name": "stdout",
     "output_type": "stream",
     "text": [
      "<class 'int'>\n"
     ]
    }
   ],
   "source": [
    "print(type(1))"
   ]
  },
  {
   "cell_type": "code",
   "execution_count": 42,
   "id": "5e372310-db61-4bcc-bc58-9a6f69bab9a5",
   "metadata": {},
   "outputs": [
    {
     "name": "stdout",
     "output_type": "stream",
     "text": [
      "<class 'float'>\n"
     ]
    }
   ],
   "source": [
    "print(type(1.00098765))"
   ]
  },
  {
   "cell_type": "code",
   "execution_count": null,
   "id": "a62242c1-5a07-4cac-9547-986cc309d914",
   "metadata": {},
   "outputs": [],
   "source": []
  }
 ],
 "metadata": {
  "kernelspec": {
   "display_name": "Python 3 (ipykernel)",
   "language": "python",
   "name": "python3"
  },
  "language_info": {
   "codemirror_mode": {
    "name": "ipython",
    "version": 3
   },
   "file_extension": ".py",
   "mimetype": "text/x-python",
   "name": "python",
   "nbconvert_exporter": "python",
   "pygments_lexer": "ipython3",
   "version": "3.11.7"
  }
 },
 "nbformat": 4,
 "nbformat_minor": 5
}
